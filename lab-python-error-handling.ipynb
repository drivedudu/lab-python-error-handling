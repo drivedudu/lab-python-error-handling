{
 "cells": [
  {
   "cell_type": "markdown",
   "id": "25d7736c-ba17-4aff-b6bb-66eba20fbf4e",
   "metadata": {},
   "source": [
    "# Lab | Error Handling"
   ]
  },
  {
   "cell_type": "markdown",
   "id": "bc99b386-7508-47a0-bcdb-d969deaf6c8b",
   "metadata": {},
   "source": [
    "## Exercise: Error Handling for Managing Customer Orders\n",
    "\n",
    "The implementation of your code for managing customer orders assumes that the user will always enter a valid input. \n",
    "\n",
    "For example, we could modify the `initialize_inventory` function to include error handling.\n",
    "   - If the user enters an invalid quantity (e.g., a negative value or a non-numeric value), display an error message and ask them to re-enter the quantity for that product.\n",
    "   - Use a try-except block to handle the error and continue prompting the user until a valid quantity is entered.\n",
    "\n",
    "```python\n",
    "# Step 1: Define the function for initializing the inventory with error handling\n",
    "def initialize_inventory(products):\n",
    "    inventory = {}\n",
    "    for product in products:\n",
    "        valid_quantity = False\n",
    "        while not valid_quantity:\n",
    "            try:\n",
    "                quantity = int(input(f\"Enter the quantity of {product}s available: \"))\n",
    "                if quantity < 0:\n",
    "                    raise ValueError(\"Invalid quantity! Please enter a non-negative value.\")\n",
    "                valid_quantity = True\n",
    "            except ValueError as error:\n",
    "                print(f\"Error: {error}\")\n",
    "        inventory[product] = quantity\n",
    "    return inventory\n",
    "\n",
    "# Or, in another way:\n",
    "\n",
    "def initialize_inventory(products):\n",
    "    inventory = {}\n",
    "    for product in products:\n",
    "        valid_input = False\n",
    "        while not valid_input:\n",
    "            try:\n",
    "                quantity = int(input(f\"Enter the quantity of {product}s available: \"))\n",
    "                if quantity >= 0:\n",
    "                    inventory[product] = quantity\n",
    "                    valid_input = True\n",
    "                else:\n",
    "                    print(\"Quantity cannot be negative. Please enter a valid quantity.\")\n",
    "            except ValueError:\n",
    "                print(\"Invalid input. Please enter a valid quantity.\")\n",
    "    return inventory\n",
    "```\n",
    "\n",
    "Let's enhance your code by implementing error handling to handle invalid inputs.\n",
    "\n",
    "Follow the steps below to complete the exercise:\n",
    "\n",
    "2. Modify the `calculate_total_price` function to include error handling.\n",
    "   - If the user enters an invalid price (e.g., a negative value or a non-numeric value), display an error message and ask them to re-enter the price for that product.\n",
    "   - Use a try-except block to handle the error and continue prompting the user until a valid price is entered.\n",
    "\n",
    "3. Modify the `get_customer_orders` function to include error handling.\n",
    "   - If the user enters an invalid number of orders (e.g., a negative value or a non-numeric value), display an error message and ask them to re-enter the number of orders.\n",
    "   - If the user enters an invalid product name (e.g., a product name that is not in the inventory), or that doesn't have stock available, display an error message and ask them to re-enter the product name. *Hint: you will need to pass inventory as a parameter*\n",
    "   - Use a try-except block to handle the error and continue prompting the user until a valid product name is entered.\n",
    "\n",
    "4. Test your code by running the program and deliberately entering invalid quantities and product names. Make sure the error handling mechanism works as expected.\n"
   ]
  },
  {
   "cell_type": "code",
   "execution_count": 31,
   "id": "2098a825",
   "metadata": {},
   "outputs": [],
   "source": [
    "products = [\"t-shirt\", \"mug\", \"hat\", \"book\", \"keychain\"]"
   ]
  },
  {
   "cell_type": "code",
   "execution_count": null,
   "id": "eef543e3",
   "metadata": {},
   "outputs": [],
   "source": [
    "def initialize_inventory(productsx):\n",
    "    inventory = dict()\n",
    "    for product in productsx:\n",
    "        valid_input = False\n",
    "        while not valid_input:\n",
    "            try:\n",
    "                quantity = int(input(f\"Enter the quantity of {product}s available: \"))\n",
    "                if quantity >= 0:\n",
    "                    inventory[product] = quantity\n",
    "                    valid_input = True\n",
    "                    print(f\"{product} is avaliable: {quantity} \")\n",
    "                else:\n",
    "                    print(\"Quantity cannot be negative. Please enter a valid quantity.\")\n",
    "            except ValueError:\n",
    "                print(\"Invalid input. Please enter a valid quantity.\")\n",
    "    return inventory\n",
    "\n"
   ]
  },
  {
   "cell_type": "code",
   "execution_count": null,
   "id": "17e8beb9",
   "metadata": {},
   "outputs": [],
   "source": [
    "inventory = initialize_inventory(products)"
   ]
  },
  {
   "cell_type": "code",
   "execution_count": null,
   "id": "48b24237",
   "metadata": {},
   "outputs": [],
   "source": [
    "def get_customer_orders(inventoryx):\n",
    "    valid_order = False\n",
    "    list_order = set()\n",
    "    while not valid_order:\n",
    "        try:\n",
    "            number_orders = int(input(\"Enter the numer of customer orders: \"))\n",
    "            valid_order = number_orders >= 0\n",
    "        except ValueError:\n",
    "                print(\"Invalid input. Please enter a valid quantity.\")\n",
    "\n",
    "    #customer_orders = {input(\"Enter the name of a product that a customer wants to order: \") for item in range(number_orders)} \n",
    "    for i in range(number_orders):\n",
    "        valid_input = False\n",
    "        while not valid_input:\n",
    "            try:\n",
    "                order = input(f\"Enter the name of a product: \")\n",
    "                if order not in inventoryx or inventoryx[order] == 0:\n",
    "                    print(\"product name that is not in the inventory or out of the stock.\")\n",
    "                else:\n",
    "                    list_order.add(order)\n",
    "                    valid_input = True\n",
    "                    print(f\"You added {order}\")\n",
    "                    \n",
    "            except ValueError:\n",
    "                print(\"Invalid input. Please enter a valid name.\")\n",
    "    return list_order \n",
    "\n"
   ]
  },
  {
   "cell_type": "code",
   "execution_count": null,
   "id": "61baf274",
   "metadata": {},
   "outputs": [],
   "source": [
    "customer_orders = get_customer_orders(inventory)"
   ]
  },
  {
   "cell_type": "code",
   "execution_count": 34,
   "id": "4aaff63e",
   "metadata": {},
   "outputs": [],
   "source": [
    "def calculate_order_total(customer_ordersx):\n",
    "    order_total = 0\n",
    "    for product in customer_ordersx:\n",
    "        valid_input = False\n",
    "        while not valid_input:\n",
    "            try:\n",
    "                price = int(input(f\"Enter the price of {product}: \"))\n",
    "                if price >= 0:\n",
    "                    order_total += price\n",
    "                    valid_input = True\n",
    "                    print(f\"{product} cost: {price} \")\n",
    "                else:\n",
    "                    print(\"Quantity cannot be negative. Please enter a valid price.\")\n",
    "            except ValueError:\n",
    "                print(\"Invalid input. Please enter a valid price.\")\n",
    "    return order_total"
   ]
  },
  {
   "cell_type": "code",
   "execution_count": null,
   "id": "f0e856ce",
   "metadata": {},
   "outputs": [],
   "source": [
    "order_total = calculate_order_total(customer_orders)"
   ]
  },
  {
   "cell_type": "code",
   "execution_count": 35,
   "id": "d222f766",
   "metadata": {},
   "outputs": [],
   "source": [
    "def calculate_order_statistics(customer_ordersx, productsx):\n",
    "    total_perct = (len(customer_ordersx)/len(productsx) * 100)\n",
    "    order_status = (len(customer_ordersx), total_perct)\n",
    "    return order_status"
   ]
  },
  {
   "cell_type": "code",
   "execution_count": 36,
   "id": "d2b8fd75",
   "metadata": {},
   "outputs": [],
   "source": [
    "def update_inventory(customer_ordersx,inventoryx):\n",
    "    print(\"The inventory was updated:\")\n",
    "    inventoryx = {update: (inventoryx[update] - 1 if inventoryx[update] > 0 else inventoryx.pop(update)) for update in customer_ordersx}"
   ]
  },
  {
   "cell_type": "code",
   "execution_count": 37,
   "id": "20902640",
   "metadata": {},
   "outputs": [],
   "source": [
    "def print_order_statistics(order_statisticsx):\n",
    "    print(\"Customer orders:\", \", \".join(customer_orders))\n",
    "    print()\n",
    "    print(\"Order Statistics:\")\n",
    "    print(\"Total Products Ordered: \" + str(order_statisticsx[0]))\n",
    "    print(f\"Percentage of Products Ordered:{order_statisticsx[1]}%\")\n",
    "    print()\n",
    "    "
   ]
  },
  {
   "cell_type": "code",
   "execution_count": 38,
   "id": "66f8a204",
   "metadata": {},
   "outputs": [],
   "source": [
    "def print_updated_inventory(inventoryx):\n",
    "    for name, stock in inventoryx.items():\n",
    "        print(f\"{name} stock: {stock}\")\n",
    " "
   ]
  },
  {
   "cell_type": "code",
   "execution_count": null,
   "id": "245652ad",
   "metadata": {},
   "outputs": [],
   "source": [
    "\n",
    "\n",
    "order_statistics = calculate_order_statistics(customer_orders, products)\n",
    "\n",
    "print_order_statistics(order_statistics)\n",
    "print(f'Total price {order_total} \\n')\n",
    "\n",
    "\n",
    "update_inventory(customer_orders,inventory)\n",
    "print_updated_inventory(inventory)\n"
   ]
  }
 ],
 "metadata": {
  "kernelspec": {
   "display_name": "Python 3 (ipykernel)",
   "language": "python",
   "name": "python3"
  },
  "language_info": {
   "codemirror_mode": {
    "name": "ipython",
    "version": 3
   },
   "file_extension": ".py",
   "mimetype": "text/x-python",
   "name": "python",
   "nbconvert_exporter": "python",
   "pygments_lexer": "ipython3",
   "version": "3.11.7"
  }
 },
 "nbformat": 4,
 "nbformat_minor": 5
}
